{
 "cells": [
  {
   "cell_type": "markdown",
   "metadata": {},
   "source": [
    "# Example notebook for CIFAR image classification training\n",
    "In this example notebook, we'll guide you through the processing of training a CNN with Adam and FishLeg optimizers and getting results. "
   ]
  },
  {
   "cell_type": "markdown",
   "metadata": {},
   "source": [
    "## Step 0: Import necessary packages"
   ]
  },
  {
   "cell_type": "code",
   "execution_count": 30,
   "metadata": {},
   "outputs": [],
   "source": [
    "import torch\n",
    "import torch.nn as nn\n",
    "import numpy as np\n",
    "from tqdm import tqdm\n",
    "import copy\n",
    "from torchsummary import summary\n",
    "\n",
    "import time\n",
    "import os\n",
    "import sys\n",
    "import matplotlib.pyplot as plt\n",
    "import torch.optim as optim\n",
    "from datetime import datetime\n",
    "from utils import class_accuracy\n",
    "from torch.utils.tensorboard import SummaryWriter\n",
    "from data_utils import read_data_sets\n",
    "\n",
    "torch.set_default_dtype(torch.float32)\n",
    "\n",
    "sys.path.append(\"../src\")\n",
    "\n",
    "from optim.FishLeg import FishLeg, FISH_LIKELIHOODS, initialise_FishModel\n"
   ]
  },
  {
   "cell_type": "markdown",
   "metadata": {},
   "source": [
    "## Step 1: Set up the environment for training the CNN\n"
   ]
  },
  {
   "cell_type": "code",
   "execution_count": 18,
   "metadata": {},
   "outputs": [],
   "source": [
    "os.environ[\"CUDA_VISIBLE_DEVICES\"] = \"1\"\n",
    "\n",
    "seed = 13\n",
    "torch.manual_seed(seed)\n",
    "torch.backends.cudnn.benchmark = False\n",
    "torch.backends.cudnn.deterministic = True\n",
    "\n",
    "device = torch.device(\"cuda\" if torch.cuda.is_available() else \"cpu\")"
   ]
  },
  {
   "cell_type": "markdown",
   "metadata": {},
   "source": [
    "## Step 2: Construct the function for training model"
   ]
  },
  {
   "cell_type": "code",
   "execution_count": 36,
   "metadata": {},
   "outputs": [],
   "source": [
    "def train_model(model, train_loader, test_loader, opt, likelihood, class_accuracy, epochs=2, device='cuda'):\n",
    "    training_loss_per_step = []\n",
    "    training_acc_per_step = []\n",
    "    testing_loss_per_step = []\n",
    "    testing_acc_per_step = []\n",
    "    time_per_step = []\n",
    "    st = time.time()\n",
    "    eval_time = 0\n",
    "\n",
    "    for epoch in range(1, epochs + 1):\n",
    "        with tqdm(train_loader, unit=\"batch\") as tepoch:\n",
    "            running_loss = 0\n",
    "            running_acc = 0\n",
    "            for n, (batch_data, batch_labels) in enumerate(tepoch, start=1):\n",
    "                tepoch.set_description(f\"Epoch {epoch}\")\n",
    "\n",
    "                batch_data, batch_labels = batch_data.to(device), batch_labels.to(device)\n",
    "\n",
    "                opt.zero_grad()\n",
    "                output = model(batch_data)\n",
    "\n",
    "                loss = likelihood(output, batch_labels)\n",
    "\n",
    "                running_loss += loss.item()\n",
    "                running_acc += class_accuracy(output, batch_labels).item()\n",
    "                training_loss_per_step.append(loss.item())\n",
    "                training_acc_per_step.append(class_accuracy(output, batch_labels).item())\n",
    "\n",
    "                loss.backward()\n",
    "                opt.step()\n",
    "\n",
    "                et = time.time()\n",
    "                time_per_step.append(et - st)\n",
    "                if n % 50 == 0:\n",
    "                    model.eval()\n",
    "\n",
    "                    running_test_loss = 0\n",
    "                    running_test_acc = 0\n",
    "\n",
    "                    for m, (test_batch_data, test_batch_labels) in enumerate(test_loader, start=1):\n",
    "                        test_batch_data, test_batch_labels = test_batch_data.to(device), test_batch_labels.to(device)\n",
    "\n",
    "                        test_output = model(test_batch_data)\n",
    "\n",
    "                        test_loss = likelihood(test_output, test_batch_labels)\n",
    "\n",
    "                        running_test_loss += test_loss.item()\n",
    "                        running_test_acc += class_accuracy(test_output, test_batch_labels).item()\n",
    "                        testing_loss_per_step.append(test_loss.item())\n",
    "                        testing_acc_per_step.append(class_accuracy(test_output, test_batch_labels).item())\n",
    "\n",
    "                    running_test_loss /= m\n",
    "                    running_test_acc /= m\n",
    "\n",
    "                    tepoch.set_postfix(acc=100 * running_acc / n, test_acc=running_test_acc * 100)\n",
    "                    model.train()\n",
    "                    eval_time += time.time() - et\n",
    "            \n",
    "            epoch_time = time.time() - st - eval_time\n",
    "            tepoch.set_postfix(loss=running_loss / n, test_loss=running_test_loss, epoch_time=epoch_time)\n",
    "\n",
    "    return model, training_loss_per_step, training_acc_per_step, testing_loss_per_step, testing_acc_per_step, time_per_step"
   ]
  },
  {
   "cell_type": "markdown",
   "metadata": {},
   "source": [
    "## Step 3: Reading in CIFAR data"
   ]
  },
  {
   "cell_type": "code",
   "execution_count": 20,
   "metadata": {},
   "outputs": [
    {
     "name": "stdout",
     "output_type": "stream",
     "text": [
      "Begin loading data for MNIST\n",
      "Data read from ../data/data/MNIST_data/train-images-idx3-ubyte.gz\n",
      "Extracting ../data/data/MNIST_data/train-images-idx3-ubyte.gz\n",
      "Extracting ../data/data/MNIST_data/t10k-images-idx3-ubyte.gz\n",
      "Data read from ../data/data/MNIST_data/train-labels-idx1-ubyte.gz\n",
      "Extracting ../data/data/MNIST_data/train-labels-idx1-ubyte.gz\n",
      "Extracting ../data/data/MNIST_data/t10k-labels-idx1-ubyte.gz\n",
      "Succesfully loaded MNIST dataset.\n"
     ]
    }
   ],
   "source": [
    "dataset = read_data_sets(\"MNIST\", \"../data/\", if_autoencoder=False, reshape=False)"
   ]
  },
  {
   "cell_type": "code",
   "execution_count": 21,
   "metadata": {},
   "outputs": [
    {
     "name": "stdout",
     "output_type": "stream",
     "text": [
      "Train size:  60000\n",
      "Test size:  10000\n",
      "Image shape:  (1, 28, 28)\n"
     ]
    }
   ],
   "source": [
    "## Dataset\n",
    "train_dataset = dataset.train\n",
    "test_dataset = dataset.test\n",
    "\n",
    "print(\"Train size: \", train_dataset.num_examples)\n",
    "print(\"Test size: \", test_dataset.num_examples)\n",
    "print(\"Image shape: \", train_dataset.images.shape[1:])"
   ]
  },
  {
   "cell_type": "code",
   "execution_count": 22,
   "metadata": {},
   "outputs": [],
   "source": [
    "def plot_images(dataset, n_images):\n",
    "    fig, ax = plt.subplots(1, n_images, figsize=(n_images, 1))\n",
    "    for i in range(n_images):\n",
    "        ax[i].imshow(dataset.images[i].reshape(28, 28), cmap=\"gray\")\n",
    "        ax[i].axis(\"off\")\n",
    "        label_one_hot = train_dataset.labels[i]\n",
    "        label = np.argmax(label_one_hot)\n",
    "        ax[i].set_title(f\"Label: {label}\")\n",
    "    plt.show()"
   ]
  },
  {
   "cell_type": "markdown",
   "metadata": {},
   "source": [
    "### Plots of Images for Classification"
   ]
  },
  {
   "cell_type": "code",
   "execution_count": 24,
   "metadata": {},
   "outputs": [
    {
     "data": {
      "image/png": "[encoded data removed]",
      "text/plain": [
       "<Figure size 500x100 with 5 Axes>"
      ]
     },
     "metadata": {},
     "output_type": "display_data"
    },
    {
     "data": {
      "image/png": "[encoded data removed]",
      "text/plain": [
       "<Figure size 500x100 with 5 Axes>"
      ]
     },
     "metadata": {},
     "output_type": "display_data"
    }
   ],
   "source": [
    "plot_images(train_dataset, 5)\n",
    "plot_images(test_dataset, 5)"
   ]
  },
  {
   "cell_type": "code",
   "execution_count": 25,
   "metadata": {},
   "outputs": [],
   "source": [
    "batch_size = 500\n",
    "\n",
    "\n",
    "train_loader = torch.utils.data.DataLoader(\n",
    "    train_dataset, batch_size=batch_size, shuffle=True\n",
    ")\n",
    "\n",
    "aux_loader = torch.utils.data.DataLoader(\n",
    "    train_dataset, shuffle=True, batch_size=batch_size\n",
    ")\n",
    "\n",
    "test_loader = torch.utils.data.DataLoader(test_dataset, batch_size=1000, shuffle=False)"
   ]
  },
  {
   "cell_type": "markdown",
   "metadata": {},
   "source": [
    "## Step 4: Initialise the model\n",
    "\n",
    "The following code constructs a vanilla CNN model."
   ]
  },
  {
   "cell_type": "code",
   "execution_count": 26,
   "metadata": {},
   "outputs": [],
   "source": [
    "\n",
    "model = nn.Sequential(\n",
    "    nn.Conv2d(\n",
    "        in_channels=1,\n",
    "        out_channels=16,\n",
    "        kernel_size=5,\n",
    "        stride=1,\n",
    "        padding=2,\n",
    "    ),\n",
    "    nn.ReLU(),\n",
    "    nn.MaxPool2d(kernel_size=2),\n",
    "    # nn.Conv2d(\n",
    "    #     in_channels=16,\n",
    "    #     out_channels=32,\n",
    "    #     kernel_size=5,\n",
    "    #     stride=1,\n",
    "    #     padding=2,\n",
    "    # ),\n",
    "    # nn.ReLU(),\n",
    "    # nn.MaxPool2d(kernel_size=2),\n",
    "    nn.Flatten(),\n",
    "    nn.Linear(16 * 14 * 14, 10),\n",
    ")\n",
    "\n",
    "adam_model = copy.deepcopy(model)\n",
    "\n",
    "\n",
    "scale_factor = 1\n",
    "damping = 0.1\n",
    "fishleg_model = initialise_FishModel(\n",
    "    copy.deepcopy(model), module_names=\"__ALL__\", fish_scale=scale_factor / damping\n",
    ")\n"
   ]
  },
  {
   "cell_type": "code",
   "execution_count": 27,
   "metadata": {},
   "outputs": [],
   "source": [
    "model = model.to(device)\n"
   ]
  },
  {
   "cell_type": "markdown",
   "metadata": {},
   "source": [
    "### Adam CNN Summary"
   ]
  },
  {
   "cell_type": "code",
   "execution_count": 31,
   "metadata": {},
   "outputs": [
    {
     "name": "stdout",
     "output_type": "stream",
     "text": [
      "----------------------------------------------------------------\n",
      "        Layer (type)               Output Shape         Param #\n",
      "================================================================\n",
      "            Conv2d-1           [-1, 16, 28, 28]             416\n",
      "              ReLU-2           [-1, 16, 28, 28]               0\n",
      "         MaxPool2d-3           [-1, 16, 14, 14]               0\n",
      "           Flatten-4                 [-1, 3136]               0\n",
      "            Linear-5                   [-1, 10]          31,370\n",
      "================================================================\n",
      "Total params: 31,786\n",
      "Trainable params: 31,786\n",
      "Non-trainable params: 0\n",
      "----------------------------------------------------------------\n",
      "Input size (MB): 0.00\n",
      "Forward/backward pass size (MB): 0.24\n",
      "Params size (MB): 0.12\n",
      "Estimated Total Size (MB): 0.36\n",
      "----------------------------------------------------------------\n"
     ]
    }
   ],
   "source": [
    "summary(adam_model, (1, 28, 28))"
   ]
  },
  {
   "cell_type": "markdown",
   "metadata": {},
   "source": [
    "## Step 5: Training with Adam\n",
    "The work flow:\n",
    "- We specify a custom implementation of softmax likelihood which defines the way to compute loss in our classification tasks.\n",
    "- We then specify the hyperparameters: Learning rate, weight decay and optimizers.\n",
    "- Lastly, we train the model with these hyperparameters and the data specified above.\n",
    "\n",
    "Hyperparameters:\n",
    "- **Learning rate**: Controls the step size in updating weights during training.\n",
    "- **Weight decay**: Adds a penalty on large weights to reduce overfitting and improve model generalization.\n",
    "- **Optimizer**: An algorithm that adjusts weights adaptively for each parameter to minimize the loss function more efficiently."
   ]
  },
  {
   "cell_type": "code",
   "execution_count": 32,
   "metadata": {},
   "outputs": [
    {
     "name": "stderr",
     "output_type": "stream",
     "text": [
      "  0%|          | 0/120 [00:00<?, ?batch/s]/Users/weibinchen/Desktop/UCL/PhD_Year_1/FishLeg/examples/data_utils.py:137: UserWarning: To copy construct from a tensor, it is recommended to use sourceTensor.clone().detach() or sourceTensor.clone().detach().requires_grad_(True), rather than torch.tensor(sourceTensor).\n",
      "  return torch.tensor(self._images[idx]), torch.tensor(self._labels[idx])\n",
      "Epoch 1: 100%|██████████| 120/120 [00:09<00:00, 12.23batch/s, acc=80.2, test_acc=90.3]\n",
      "Epoch 2: 100%|██████████| 120/120 [00:08<00:00, 14.44batch/s, acc=91.7, test_acc=93.1]\n"
     ]
    }
   ],
   "source": [
    "# This is a custom implementation of a softmax likelihood which defines the way to compute loss in classification tasks\n",
    "likelihood = FISH_LIKELIHOODS[\"softmax\"](device=device)\n",
    "\n",
    "lr = 0.0005\n",
    "# betas = (0.7, 0.9)\n",
    "weight_decay = 1e-5\n",
    "# eps = 1e-8\n",
    "\n",
    "opt = optim.Adam(\n",
    "    model.parameters(),\n",
    "    lr=lr,\n",
    "    # betas=betas,\n",
    "    weight_decay=weight_decay,\n",
    "    # eps=eps,\n",
    ")\n",
    "\n",
    "\n",
    "trained_model = train_model(model, train_loader, test_loader, opt, likelihood, class_accuracy, epochs=2, device=device)\n"
   ]
  },
  {
   "cell_type": "markdown",
   "metadata": {},
   "source": [
    "## Step 6: Training with FishLeg\n",
    "The workflow:\n",
    "- We specify all the hyperparameters(learning rate, weight_decay,etc).\n",
    "- We initialise a model with replacement of certain layers with corresponding 'FishLeg' layers\n",
    "- We specify the FishLeg optimizer\n",
    "- Lastly, we train the model\n",
    "\n",
    "Hyperparameters:\n",
    "- **Learning rate**: Controls the step size in updating weights during training.\n",
    "- **Weight decay**: Adds a penalty on large weights to reduce overfitting and improve model generalization.\n",
    "- **Optimizer**: An algorithm that adjusts weights adaptively for each parameter to minimize the loss function more efficiently.\n",
    "- **beta**: coefficient for running averages of gradient (default: 0.9)\n",
    "- **aux_lr**: learning rate for the auxiliary parameters, using Adam (default: 1e-3)\n",
    "- **aux_eps**: Term added to the denominator to improve numerical stability for auxiliary parameters (default: 1e-8)\n",
    "- **damping**: Static damping applied to Fisher matrix, :math:`\\gamma`,for stability when FIM becomes near-singular. (default: 5e-1)"
   ]
  },
  {
   "cell_type": "code",
   "execution_count": 38,
   "metadata": {},
   "outputs": [],
   "source": [
    "lr = 0.02\n",
    "beta = 0.9\n",
    "weight_decay = 1e-5\n",
    "\n",
    "aux_lr = 1e-4\n",
    "aux_eps = 1e-8\n",
    "scale_factor = 1\n",
    "damping = 0.1\n",
    "update_aux_every = 3\n",
    "\n",
    "initialization = \"normal\"\n",
    "normalization = True\n",
    "\n",
    "scale_factor = 1\n",
    "damping = 0.1\n",
    "fishleg_model = initialise_FishModel(\n",
    "    copy.deepcopy(model), module_names=\"__ALL__\", fish_scale=scale_factor / damping\n",
    ")\n",
    "\n",
    "\n",
    "# Initialise a model with replacement of certain layers with corresponding 'FishLeg' layers\n",
    "model = initialise_FishModel(\n",
    "    model, module_names=\"__ALL__\", fish_scale=scale_factor / damping\n",
    ")\n",
    "\n",
    "opt = FishLeg(\n",
    "    model,\n",
    "    aux_loader,\n",
    "    likelihood,\n",
    "    lr=lr,\n",
    "    beta=beta,\n",
    "    weight_decay=weight_decay,\n",
    "    aux_lr=aux_lr,\n",
    "    aux_betas=(0.9, 0.999),\n",
    "    aux_eps=aux_eps,\n",
    "    damping=damping,\n",
    "    update_aux_every=update_aux_every,\n",
    "    # writer=writer,\n",
    "    method=\"antithetic\",\n",
    "    method_kwargs={\"eps\": 1e-4},\n",
    "    precondition_aux=True,\n",
    ")\n"
   ]
  },
  {
   "cell_type": "markdown",
   "metadata": {},
   "source": [
    "### FishLeg CNN Summary"
   ]
  },
  {
   "cell_type": "code",
   "execution_count": 34,
   "metadata": {},
   "outputs": [
    {
     "name": "stdout",
     "output_type": "stream",
     "text": [
      "----------------------------------------------------------------\n",
      "        Layer (type)               Output Shape         Param #\n",
      "================================================================\n",
      "        FishConv2d-1           [-1, 16, 28, 28]             416\n",
      "              ReLU-2           [-1, 16, 28, 28]               0\n",
      "         MaxPool2d-3           [-1, 16, 14, 14]               0\n",
      "           Flatten-4                 [-1, 3136]               0\n",
      "        FishLinear-5                   [-1, 10]          31,370\n",
      "================================================================\n",
      "Total params: 31,786\n",
      "Trainable params: 31,786\n",
      "Non-trainable params: 0\n",
      "----------------------------------------------------------------\n",
      "Input size (MB): 0.00\n",
      "Forward/backward pass size (MB): 0.24\n",
      "Params size (MB): 0.12\n",
      "Estimated Total Size (MB): 0.36\n",
      "----------------------------------------------------------------\n"
     ]
    }
   ],
   "source": [
    "summary(fishleg_model, (1, 28, 28))"
   ]
  },
  {
   "cell_type": "markdown",
   "metadata": {},
   "source": [
    "### FishLeg Model Training"
   ]
  },
  {
   "cell_type": "code",
   "execution_count": 39,
   "metadata": {},
   "outputs": [
    {
     "name": "stderr",
     "output_type": "stream",
     "text": [
      "Epoch 1:   0%|          | 0/120 [00:00<?, ?batch/s]\n"
     ]
    },
    {
     "ename": "IndexError",
     "evalue": "list index out of range",
     "output_type": "error",
     "traceback": [
      "\u001b[0;31m---------------------------------------------------------------------------\u001b[0m",
      "\u001b[0;31mIndexError\u001b[0m                                Traceback (most recent call last)",
      "Cell \u001b[0;32mIn[39], line 1\u001b[0m\n\u001b[0;32m----> 1\u001b[0m fishleg_trained_model, fishleg_training_loss_per_step, fishleg_training_acc_per_step, fishleg_testing_loss_per_step, fishlet_testing_acc_per_step, fishleg_time_per_step \u001b[38;5;241m=\u001b[39m \u001b[43mtrain_model\u001b[49m\u001b[43m(\u001b[49m\u001b[43mfishleg_model\u001b[49m\u001b[43m,\u001b[49m\u001b[43m \u001b[49m\u001b[43mtrain_loader\u001b[49m\u001b[43m,\u001b[49m\u001b[43m \u001b[49m\u001b[43mtest_loader\u001b[49m\u001b[43m,\u001b[49m\u001b[43m \u001b[49m\u001b[43mopt\u001b[49m\u001b[43m,\u001b[49m\u001b[43m \u001b[49m\u001b[43mlikelihood\u001b[49m\u001b[43m,\u001b[49m\u001b[43m \u001b[49m\u001b[43mclass_accuracy\u001b[49m\u001b[43m,\u001b[49m\u001b[43m \u001b[49m\u001b[43mepochs\u001b[49m\u001b[38;5;241;43m=\u001b[39;49m\u001b[38;5;241;43m10\u001b[39;49m\u001b[43m,\u001b[49m\u001b[43m \u001b[49m\u001b[43mdevice\u001b[49m\u001b[38;5;241;43m=\u001b[39;49m\u001b[43mdevice\u001b[49m\u001b[43m)\u001b[49m\n",
      "Cell \u001b[0;32mIn[36], line 30\u001b[0m, in \u001b[0;36mtrain_model\u001b[0;34m(model, train_loader, test_loader, opt, likelihood, class_accuracy, epochs, device)\u001b[0m\n\u001b[1;32m     27\u001b[0m training_acc_per_step\u001b[38;5;241m.\u001b[39mappend(class_accuracy(output, batch_labels)\u001b[38;5;241m.\u001b[39mitem())\n\u001b[1;32m     29\u001b[0m loss\u001b[38;5;241m.\u001b[39mbackward()\n\u001b[0;32m---> 30\u001b[0m \u001b[43mopt\u001b[49m\u001b[38;5;241;43m.\u001b[39;49m\u001b[43mstep\u001b[49m\u001b[43m(\u001b[49m\u001b[43m)\u001b[49m\n\u001b[1;32m     32\u001b[0m et \u001b[38;5;241m=\u001b[39m time\u001b[38;5;241m.\u001b[39mtime()\n\u001b[1;32m     33\u001b[0m time_per_step\u001b[38;5;241m.\u001b[39mappend(et \u001b[38;5;241m-\u001b[39m st)\n",
      "File \u001b[0;32m~/miniforge3/envs/torch-gpu/lib/python3.9/site-packages/torch/optim/optimizer.py:379\u001b[0m, in \u001b[0;36mOptimizer.profile_hook_step.<locals>.wrapper\u001b[0;34m(*args, **kwargs)\u001b[0m\n\u001b[1;32m    374\u001b[0m         \u001b[39melse\u001b[39;00m:\n\u001b[1;32m    375\u001b[0m             \u001b[39mraise\u001b[39;00m \u001b[39mRuntimeError\u001b[39;00m(\n\u001b[1;32m    376\u001b[0m                 \u001b[39mf\u001b[39m\u001b[39m\"\u001b[39m\u001b[39m{\u001b[39;00mfunc\u001b[39m}\u001b[39;00m\u001b[39m must return None or a tuple of (new_args, new_kwargs), but got \u001b[39m\u001b[39m{\u001b[39;00mresult\u001b[39m}\u001b[39;00m\u001b[39m.\u001b[39m\u001b[39m\"\u001b[39m\n\u001b[1;32m    377\u001b[0m             )\n\u001b[0;32m--> 379\u001b[0m out \u001b[39m=\u001b[39m func(\u001b[39m*\u001b[39;49margs, \u001b[39m*\u001b[39;49m\u001b[39m*\u001b[39;49mkwargs)\n\u001b[1;32m    380\u001b[0m \u001b[39mself\u001b[39m\u001b[39m.\u001b[39m_optimizer_step_code()\n\u001b[1;32m    382\u001b[0m \u001b[39m# call optimizer step post hooks\u001b[39;00m\n",
      "File \u001b[0;32m~/Desktop/UCL/PhD_Year_1/FishLeg/examples/../src/optim/FishLeg/fishleg.py:395\u001b[0m, in \u001b[0;36mFishLeg.step\u001b[0;34m(self)\u001b[0m\n\u001b[1;32m    385\u001b[0m step_size \u001b[39m=\u001b[39m group[\u001b[39m\"\u001b[39m\u001b[39mlr\u001b[39m\u001b[39m\"\u001b[39m]\n\u001b[1;32m    387\u001b[0m \u001b[39mself\u001b[39m\u001b[39m.\u001b[39m_init_group(\n\u001b[1;32m    388\u001b[0m     group,\n\u001b[1;32m    389\u001b[0m     params_with_grad,\n\u001b[0;32m   (...)\u001b[0m\n\u001b[1;32m    392\u001b[0m     state_steps,\n\u001b[1;32m    393\u001b[0m )\n\u001b[0;32m--> 395\u001b[0m step_t \u001b[39m=\u001b[39m state_steps[\u001b[39m0\u001b[39;49m]\n\u001b[1;32m    397\u001b[0m \u001b[39mif\u001b[39;00m step_t \u001b[39m%\u001b[39m update_aux_every \u001b[39m==\u001b[39m \u001b[39m0\u001b[39m \u001b[39mand\u001b[39;00m step_t \u001b[39m!=\u001b[39m \u001b[39m0\u001b[39m:\n\u001b[1;32m    398\u001b[0m     \u001b[39mself\u001b[39m\u001b[39m.\u001b[39mupdate_aux()\n",
      "\u001b[0;31mIndexError\u001b[0m: list index out of range"
     ]
    }
   ],
   "source": [
    "fishleg_trained_model, fishleg_training_loss_per_step, fishleg_training_acc_per_step, fishleg_testing_loss_per_step, fishlet_testing_acc_per_step, fishleg_time_per_step = train_model(fishleg_model, train_loader, test_loader, opt, likelihood, class_accuracy, epochs=10, device=device)"
   ]
  },
  {
   "cell_type": "markdown",
   "metadata": {},
   "source": [
    "### Plots of Training Process"
   ]
  },
  {
   "cell_type": "code",
   "execution_count": null,
   "metadata": {},
   "outputs": [],
   "source": [
    "plt.plot(adam_training_loss_per_step, label=\"Adam\")\n",
    "plt.plot(fishleg_training_loss_per_step, label=\"FishLeg\")\n",
    "plt.legend(loc='best')\n",
    "plt.xlabel(\"Steps\")\n",
    "plt.ylabel(\"Training Loss\")"
   ]
  },
  {
   "cell_type": "code",
   "execution_count": null,
   "metadata": {},
   "outputs": [],
   "source": [
    "plt.plot(adam_training_acc_per_step, label=\"Adam\")\n",
    "plt.plot(fishleg_training_acc_per_step, label=\"FishLeg\")\n",
    "plt.legend(loc='best')\n",
    "plt.xlabel(\"Steps\")\n",
    "plt.ylabel(\"Training Accuracy\")"
   ]
  },
  {
   "cell_type": "code",
   "execution_count": null,
   "metadata": {},
   "outputs": [],
   "source": [
    "plt.plot(adam_time_per_step, adam_training_loss_per_step, label=\"Adam\")\n",
    "plt.plot(fishleg_time_per_step, fishleg_training_loss_per_step, label=\"FishLeg\")\n",
    "plt.legend(loc='best')\n",
    "plt.xlabel(\"Time\")\n",
    "plt.ylabel(\"Training Loss\")"
   ]
  },
  {
   "cell_type": "code",
   "execution_count": null,
   "metadata": {},
   "outputs": [],
   "source": [
    "plt.plot(adam_time_per_step, adam_training_acc_per_step, label=\"Adam\")\n",
    "plt.plot(fishleg_time_per_step, fishleg_training_acc_per_step, label=\"FishLeg\")\n",
    "plt.legend(loc='best')\n",
    "plt.xlabel(\"Time\")\n",
    "plt.ylabel(\"Training Accuracy\")"
   ]
  }
 ],
 "metadata": {
  "kernelspec": {
   "display_name": "Python 3.9.18 ('torch-gpu')",
   "language": "python",
   "name": "python3"
  },
  "language_info": {
   "codemirror_mode": {
    "name": "ipython",
    "version": 3
   },
   "file_extension": ".py",
   "mimetype": "text/x-python",
   "name": "python",
   "nbconvert_exporter": "python",
   "pygments_lexer": "ipython3",
   "version": "3.9.18"
  },
  "vscode": {
   "interpreter": {
    "hash": "dee4cb6648085172192ebedd48c9a6f014ffcad5925711ae86db60fc7a3e5218"
   }
  }
 },
 "nbformat": 4,
 "nbformat_minor": 2
}
